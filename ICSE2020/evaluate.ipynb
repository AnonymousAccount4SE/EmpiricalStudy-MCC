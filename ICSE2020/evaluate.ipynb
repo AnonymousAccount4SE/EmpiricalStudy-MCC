{
 "cells": [
  {
   "cell_type": "code",
   "execution_count": 1,
   "metadata": {
    "collapsed": true
   },
   "outputs": [
    {
     "name": "stdout",
     "output_type": "stream",
     "text": [
      "1559\n",
      "1559 1559\n",
      "['hash', 'code'] 601\n",
      "['get', 'name'] 663\n",
      "['get', 'name'] 945\n",
      "['write'] 1195\n",
      "['get', 'name'] 1231\n",
      "5 1554\n"
     ]
    }
   ],
   "source": [
    "# coding=utf-8\n",
    "\n",
    "result_list = []\n",
    "actual_list = []\n",
    "\n",
    "root_path = '/home1/likejun/BadNameDetectionICSE2020/test_noreal_more_46/Inconsistent/'\n",
    "\n",
    "with open(root_path + 'result.txt', 'r') as f:\n",
    "    for line in f:\n",
    "        result_list.append(line.strip())\n",
    "\n",
    "with open(root_path + 'parsedMethodNameTokens_unique.txt', 'r') as f:\n",
    "    for line in f:\n",
    "        actual_list.append(line.rstrip())\n",
    "\n",
    "print(len(actual_list))\n",
    "\n",
    "actual_list = actual_list[0:len(result_list)]\n",
    "\n",
    "print(len(actual_list), len(result_list))\n",
    "\n",
    "in_consistent = 0\n",
    "consistent = 0\n",
    "\n",
    "for i in range(len(actual_list)):\n",
    "    actual_name = actual_list[i].split(' ')\n",
    "    result_name = result_list[i].split(' ')\n",
    "    mother = (len(actual_name) + len(result_name)) / 2\n",
    "    child = len(list(set(actual_name).intersection(set(result_name))))\n",
    "    # print(actual_name,result_name,child, mother)\n",
    "    if child / mother > 0.94:\n",
    "        consistent += 1\n",
    "        print(actual_name,i)\n",
    "    else:\n",
    "        in_consistent += 1\n",
    "\n",
    "print(consistent, in_consistent)"
   ]
  },
  {
   "cell_type": "code",
   "execution_count": 2,
   "outputs": [
    {
     "name": "stdout",
     "output_type": "stream",
     "text": [
      "3707\n",
      "0 0\n",
      "0 0\n",
      "0 0\n"
     ]
    }
   ],
   "source": [
    "result_list = []\n",
    "actual_list = []\n",
    "label_list = []\n",
    "\n",
    "root_path = '/home1/likejun/BadNameDetectionICSE2020/test_noreal_more_46/'\n",
    "\n",
    "with open(root_path + 'result.txt', 'r') as f:\n",
    "    for line in f:\n",
    "        result_list.append(line.strip())\n",
    "with open(root_path + 'labels.txt', 'r') as f:\n",
    "    for line in f:\n",
    "        label_list.append(line.strip())\n",
    "\n",
    "with open(root_path + 'ParsedMethodNameTokens.txt', 'r') as f:\n",
    "    for line in f:\n",
    "        actual_list.append(line.rstrip())\n",
    "\n",
    "print(len(actual_list))\n",
    "actual_list = actual_list[0:len(result_list)]\n",
    "print(len(actual_list), len(result_list))\n",
    "\n",
    "in_consistent = 0\n",
    "consistent = 0\n",
    "\n",
    "for i in range(len(actual_list)):\n",
    "    if label_list[i] == '0':\n",
    "        actual_name = actual_list[i].split(' ')\n",
    "        result_name = result_list[i].split(' ')\n",
    "        mother = (len(actual_name) + len(result_name)) / 2\n",
    "        child = len(list(set(actual_name).intersection(set(result_name))))\n",
    "        # print(actual_name,result_name,child, mother)\n",
    "        if child / mother > 0.94:\n",
    "            consistent += 1\n",
    "        else:\n",
    "            in_consistent += 1\n",
    "\n",
    "print(consistent, in_consistent)\n",
    "\n",
    "in_consistent = 0\n",
    "consistent = 0\n",
    "\n",
    "for i in range(len(actual_list)):\n",
    "    if label_list[i] == '1':\n",
    "        actual_name = actual_list[i].split(' ')\n",
    "        result_name = result_list[i].split(' ')\n",
    "        mother = (len(actual_name) + len(result_name)) / 2\n",
    "        child = len(list(set(actual_name).intersection(set(result_name))))\n",
    "        # print(actual_name,result_name,child, mother)\n",
    "        if child / mother > 0.94:\n",
    "            consistent += 1\n",
    "        else:\n",
    "            in_consistent += 1\n",
    "\n",
    "print(consistent, in_consistent)"
   ],
   "metadata": {
    "collapsed": false,
    "pycharm": {
     "name": "#%%\n"
    }
   }
  },
  {
   "cell_type": "code",
   "execution_count": 3,
   "outputs": [
    {
     "name": "stdout",
     "output_type": "stream",
     "text": [
      "inconsistent:\n",
      "precision: 50.013539128080154   recall: 99.62243797195254   f1: 66.5945556156481\n",
      "consistent:\n",
      "precision: 50.0   recall: 0.37776578521316784   f1: 0.7498660953401178\n",
      "acc: 50.01348799568384\n"
     ]
    }
   ],
   "source": [
    "#         一致      不一致\n",
    "# 不一致:   10   1341\n",
    "# 一致：   1485  80231\n",
    "a = 7\n",
    "b = 1847\n",
    "c = 7\n",
    "d = 1846\n",
    "\n",
    "print('inconsistent:')\n",
    "print('precision:',100*b/(b+d),'  recall:',100*b/(a+b), '  f1:',100*2*b*b/(b+d)/(a+b)/(b/(b+d)+b/(a+b)))\n",
    "print('consistent:')\n",
    "print('precision:',100*c/(a+c),'  recall:',100*c/(c+d), '  f1:',100*2*c*c/(a+c)/(c+d)/(c/(a+c)+c/(c+d)))\n",
    "print('acc:',100*(c+b)/(a+b+c+d))"
   ],
   "metadata": {
    "collapsed": false,
    "pycharm": {
     "name": "#%%\n"
    }
   }
  },
  {
   "cell_type": "code",
   "execution_count": null,
   "outputs": [],
   "source": [],
   "metadata": {
    "collapsed": false,
    "pycharm": {
     "name": "#%%\n"
    }
   }
  }
 ],
 "metadata": {
  "kernelspec": {
   "display_name": "Python 3",
   "language": "python",
   "name": "python3"
  },
  "language_info": {
   "codemirror_mode": {
    "name": "ipython",
    "version": 2
   },
   "file_extension": ".py",
   "mimetype": "text/x-python",
   "name": "python",
   "nbconvert_exporter": "python",
   "pygments_lexer": "ipython2",
   "version": "2.7.6"
  }
 },
 "nbformat": 4,
 "nbformat_minor": 0
}